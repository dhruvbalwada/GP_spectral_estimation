{
 "cells": [
  {
   "cell_type": "markdown",
   "metadata": {},
   "source": [
    "Fit an exact GP to a medium number of samples of the Branin function."
   ]
  },
  {
   "cell_type": "code",
   "execution_count": 1,
   "metadata": {},
   "outputs": [],
   "source": [
    "from itertools import product\n",
    "import numpy as np\n",
    "import torch\n",
    "\n",
    "def branin(X):\n",
    "    x_1 = X[:, 0]\n",
    "    x_2 = X[:, 1]\n",
    "    return (\n",
    "        (x_2 - 5.1 / (4 * np.pi ** 2) * x_1 ** 2 + 5.0 / np.pi * x_1 - 6.0) ** 2\n",
    "        + 10 * (1 - 1.0 / (8 * np.pi)) * torch.cos(x_1)\n",
    "        + 10\n",
    "    )\n",
    "\n",
    "x_grid = [-5, -2, 0, 2, 5, 10]\n",
    "y_grid = [0, 3, 6, 9, 12, 15]\n",
    "X = torch.Tensor(list(product(x_grid, y_grid)))\n",
    "Y = branin(X)"
   ]
  },
  {
   "cell_type": "code",
   "execution_count": 2,
   "metadata": {},
   "outputs": [],
   "source": [
    "import gpytorch\n",
    "\n",
    "class ExactGPModel(gpytorch.models.ExactGP):\n",
    "    def __init__(self, train_x, train_y, likelihood):\n",
    "        super(ExactGPModel, self).__init__(train_x, train_y, likelihood)\n",
    "        self.mean_module = gpytorch.means.ConstantMean()\n",
    "        self.covar_module = gpytorch.kernels.ScaleKernel(gpytorch.kernels.RBFKernel())\n",
    "    \n",
    "    def forward(self, x):\n",
    "        mean_x = self.mean_module(x)\n",
    "        covar_x = self.covar_module(x)\n",
    "        return gpytorch.distributions.MultivariateNormal(mean_x, covar_x)"
   ]
  },
  {
   "cell_type": "markdown",
   "metadata": {},
   "source": [
    "A function for optimizing a model with Adam, and another for L-BFGS."
   ]
  },
  {
   "cell_type": "code",
   "execution_count": 3,
   "metadata": {},
   "outputs": [],
   "source": [
    "# Fit with a Torch optimizer (Adam)\n",
    "\n",
    "import time\n",
    "from typing import Any, Dict, List, Optional, NamedTuple, Tuple\n",
    "\n",
    "from gpytorch.mlls.marginal_log_likelihood import MarginalLogLikelihood\n",
    "from gpytorch.module import Module\n",
    "from scipy.optimize import minimize\n",
    "from torch import Tensor\n",
    "from torch.optim.adam import Adam\n",
    "from torch.optim.optimizer import Optimizer\n",
    "\n",
    "\n",
    "class OptimizationIteration(NamedTuple):\n",
    "    itr: int\n",
    "    fun: float\n",
    "    time: float\n",
    "\n",
    "\n",
    "def fit_torch(\n",
    "    mll: MarginalLogLikelihood,\n",
    "    optimizer_cls: Optimizer = Adam,\n",
    "    lr: float = 0.05,\n",
    "    maxiter: int = 100,\n",
    "    optimizer_args: Optional[Dict[str, float]] = None,\n",
    "    disp: bool = True,\n",
    "    track_iterations: bool = True,\n",
    ") -> Tuple[MarginalLogLikelihood, List[OptimizationIteration]]:\n",
    "    \"\"\"Fit a gpytorch model by maximizing MLL with a torch optimizer.\n",
    "\n",
    "    The model and likelihood in mll must already be in train mode.\n",
    "\n",
    "    Args:\n",
    "        mll: MarginalLogLikelihood to be maximized.\n",
    "        optimizer_cls: Torch optimizer to use. Must not need a closure.\n",
    "            Defaults to Adam.\n",
    "        lr: Starting learning rate.\n",
    "        maxiter: Maximum number of iterations.\n",
    "        optimizer_args: Additional arguments to instantiate optimizer_cls.\n",
    "        disp: Print information during optimization.\n",
    "        track_iterations: Track the function values and wall time for each\n",
    "            iteration.\n",
    "\n",
    "    Returns:\n",
    "        mll: mll with parameters optimized in-place.\n",
    "        iterations: List of OptimizationIteration objects describing each\n",
    "            iteration. If track_iterations is False, will be an empty list.\n",
    "    \"\"\"\n",
    "    optimizer_args = {} if optimizer_args is None else optimizer_args\n",
    "    optimizer = optimizer_cls(\n",
    "        params=[{\"params\": mll.model.parameters()}], lr=lr, **optimizer_args\n",
    "    )\n",
    "\n",
    "    iterations = []\n",
    "    t1 = time.time()\n",
    "\n",
    "    param_trajectory: Dict[str, List[Tensor]] = {\n",
    "        name: [] for name, param in mll.model.named_parameters()\n",
    "    }\n",
    "    loss_trajectory: List[float] = []\n",
    "    for i in range(maxiter):\n",
    "        optimizer.zero_grad()\n",
    "        output = mll.model(mll.model.train_inputs[0])\n",
    "        # we sum here to support batch mode\n",
    "        loss = -mll(output, mll.model.train_targets).sum()\n",
    "        loss.backward()\n",
    "        loss_trajectory.append(loss.item())\n",
    "        for name, param in mll.model.named_parameters():\n",
    "            param_trajectory[name].append(param.detach().clone())\n",
    "        if disp and (i % 10 == 0 or i == (maxiter - 1)):\n",
    "            print(f\"Iter {i +1}/{maxiter}: {loss.item()}\")\n",
    "        if track_iterations:\n",
    "            iterations.append(OptimizationIteration(i, loss.item(), time.time() - t1))\n",
    "        optimizer.step()\n",
    "    return mll, iterations"
   ]
  },
  {
   "cell_type": "code",
   "execution_count": 5,
   "metadata": {},
   "outputs": [],
   "source": [
    "# With torch L-BFGS\n",
    "\n",
    "import sys\n",
    "sys.path.append('../PyTorch-LBFGS/functions/')\n",
    "from LBFGS import LBFGS\n",
    "#from pytorch_lbfgs.functions.LBFGS import LBFGS\n",
    "\n",
    "def fit_lbfgs(\n",
    "    mll: MarginalLogLikelihood,\n",
    "    maxiter: int = 10,\n",
    "    disp: bool = True,\n",
    "    track_iterations: bool = True,\n",
    ") -> Tuple[MarginalLogLikelihood, List[OptimizationIteration]]:\n",
    "    \"\"\"Fit a gpytorch model by maximizing MLL with pytorch LBFGS.\n",
    "\n",
    "    The model and likelihood in mll must already be in train mode.\n",
    "\n",
    "    Args:\n",
    "        mll: MarginalLogLikelihood to be maximized.\n",
    "        maxiter: Maximum number of iterations.\n",
    "        optimizer_args: Additional arguments to instantiate optimizer_cls.\n",
    "        disp: Print information during optimization.\n",
    "        track_iterations: Track the function values and wall time for each\n",
    "            iteration.\n",
    "\n",
    "    Returns:\n",
    "        mll: mll with parameters optimized in-place.\n",
    "        iterations: List of OptimizationIteration objects describing each\n",
    "            iteration. If track_iterations is False, will be an empty list.\n",
    "    \"\"\"\n",
    "\n",
    "    optimizer = LBFGS(mll.model.parameters())\n",
    "\n",
    "    iterations = []\n",
    "    t1 = time.time()\n",
    "\n",
    "    optimizer.zero_grad()\n",
    "    output = mll.model(*mll.model.train_inputs)\n",
    "    # we sum here to support batch mode\n",
    "    loss = -mll(output, mll.model.train_targets).sum()\n",
    "    loss.backward()\n",
    "    # get gradient\n",
    "    grad = optimizer._gather_flat_grad()\n",
    "\n",
    "    for i in range(maxiter):\n",
    "\n",
    "        # compute search direction\n",
    "        p = optimizer.two_loop_recursion(-grad)\n",
    "\n",
    "        def closure():\n",
    "            optimizer.zero_grad()\n",
    "            output = mll.model(*mll.model.train_inputs)\n",
    "            loss = -mll(output, mll.model.train_targets).sum()\n",
    "            return loss\n",
    "\n",
    "        # Take the step\n",
    "        options = {'closure': closure, 'current_loss': loss, 'max_ls': 10}\n",
    "        loss, grad, lr, _, F_eval, G_eval, _, _ = optimizer.step(p, grad, options=options)\n",
    "        optimizer.curvature_update(grad)\n",
    "\n",
    "        if disp:\n",
    "            print(f\"Iter {i +1}/{maxiter}: {loss.item()}\")\n",
    "        if track_iterations:\n",
    "            iterations.append(OptimizationIteration(i, loss.item(), time.time() - t1))\n",
    "\n",
    "    return mll, iterations"
   ]
  },
  {
   "cell_type": "markdown",
   "metadata": {},
   "source": [
    "#### Adam\n",
    "Adam is very sensitive to the learning rate. The default value of 0.001 hardly moves at all on this problem. Values less than 1 are very slow, but values slightly larger than 1 lead to errors."
   ]
  },
  {
   "cell_type": "code",
   "execution_count": 15,
   "metadata": {},
   "outputs": [
    {
     "name": "stdout",
     "output_type": "stream",
     "text": [
      "Iter 1/100: 3231.03515625\n",
      "Iter 11/100: 1584.2236328125\n",
      "Iter 21/100: 833.8779296875\n",
      "Iter 31/100: 575.7978515625\n",
      "Iter 41/100: 478.0352783203125\n",
      "Iter 51/100: 429.1805725097656\n",
      "Iter 61/100: 397.8502197265625\n",
      "Iter 71/100: 374.2471923828125\n",
      "Iter 81/100: 354.863525390625\n",
      "Iter 91/100: 338.2402038574219\n",
      "Iter 100/100: 325.03631591796875\n",
      "Iter 1/100: 3231.03515625\n",
      "Iter 11/100: 331.73773193359375\n",
      "Iter 21/100: 243.857177734375\n",
      "Iter 31/100: 208.8609161376953\n",
      "Iter 41/100: 183.8821563720703\n",
      "Iter 51/100: 167.09120178222656\n",
      "Iter 61/100: 157.0259552001953\n",
      "Iter 71/100: 150.19952392578125\n",
      "Iter 81/100: 144.17250061035156\n",
      "Iter 91/100: 138.58840942382812\n",
      "Iter 100/100: 134.0030975341797\n",
      "Iter 1/100: 3231.03515625\n",
      "Iter 11/100: 226.3661346435547\n",
      "Iter 21/100: 175.05523681640625\n",
      "Iter 31/100: 141.39700317382812\n",
      "Iter 41/100: 118.943115234375\n",
      "Iter 51/100: 110.50728607177734\n",
      "Iter 61/100: 106.43901824951172\n",
      "Iter 71/100: 101.78273010253906\n",
      "Iter 81/100: 98.13375854492188\n",
      "Iter 91/100: 94.72639465332031\n",
      "Iter 100/100: 91.81885528564453\n",
      "Iter 1/100: 3231.03515625\n",
      "Iter 11/100: 22.210832595825195\n",
      "Iter 21/100: 18.804479598999023\n",
      "Iter 31/100: 17.88934326171875\n",
      "Iter 41/100: 17.560443878173828\n",
      "Iter 51/100: 17.424545288085938\n",
      "Iter 61/100: 17.35837173461914\n",
      "Iter 71/100: 17.3174991607666\n",
      "Iter 81/100: 17.28527069091797\n",
      "Iter 91/100: 17.25547218322754\n",
      "Iter 100/100: 17.22881507873535\n",
      "Iter 1/100: 3231.03515625\n",
      "Iter 11/100: 21.570348739624023\n",
      "Iter 21/100: 25.65089988708496\n",
      "Iter 31/100: 27.09792137145996\n",
      "Iter 41/100: 27.501100540161133\n",
      "Iter 51/100: 27.471574783325195\n",
      "Iter 61/100: 27.256996154785156\n",
      "Iter 71/100: 26.957975387573242\n",
      "Iter 81/100: 26.615554809570312\n",
      "Iter 91/100: 26.246967315673828\n",
      "Iter 100/100: 25.899463653564453\n"
     ]
    }
   ],
   "source": [
    "# Adam with a few lengthscales\n",
    "adam_iterations = {}\n",
    "for lr in [0.1, 0.5, 1.0, 30., 300.]:\n",
    "    likelihood = gpytorch.likelihoods.GaussianLikelihood()\n",
    "    model = ExactGPModel(X, Y, likelihood)\n",
    "    likelihood.train()\n",
    "    model.train()\n",
    "    mll = gpytorch.mlls.ExactMarginalLogLikelihood(likelihood, model)\n",
    "\n",
    "    mll, adam_iterations[lr] = fit_torch(\n",
    "        mll,\n",
    "        optimizer_cls=torch.optim.Adam,\n",
    "        lr=lr,\n",
    "        track_iterations=True,\n",
    "    )"
   ]
  },
  {
   "cell_type": "code",
   "execution_count": 24,
   "metadata": {},
   "outputs": [
    {
     "name": "stderr",
     "output_type": "stream",
     "text": [
      "/Users/dhruvbalwada/code/miniconda/envs/sogos/lib/python3.7/site-packages/ipykernel_launcher.py:19: UserWarning: Attempted to set non-positive bottom ylim on a log-scaled axis.\n",
      "Invalid limit will be ignored.\n"
     ]
    },
    {
     "data": {
      "image/png": "[encoded data removed]",
      "text/plain": [
       "<Figure size 1080x720 with 1 Axes>"
      ]
     },
     "metadata": {
      "needs_background": "light"
     },
     "output_type": "display_data"
    }
   ],
   "source": [
    "from matplotlib import pyplot as plt\n",
    "\n",
    "fig = plt.figure(figsize=(15, 10))\n",
    "ax = fig.add_subplot(111)\n",
    "colors = ['rosybrown', 'firebrick', 'red', 'pink','blue']\n",
    "lrs = [0.1, 0.5, 1.0, 30., 300.]\n",
    "\n",
    "names = [f'Adam lr={lr}' for lr in lrs]\n",
    "\n",
    "\n",
    "res = [adam_iterations[lr] for lr in lrs]\n",
    "\n",
    "for i, iterations in enumerate(res):\n",
    "    ts = [itr.time for itr in iterations]\n",
    "    fs = [itr.fun for itr in iterations]\n",
    "    ax.semilogy(ts, fs, '.-', color=colors[i], lw=2, ms=12)\n",
    "\n",
    "ax.legend(names, fontsize=18)\n",
    "ax.set_ylim([0, 1000])\n",
    "#ax.set_xlim([0, 1])\n",
    "ax.set_ylabel('Loss', fontsize=20)\n",
    "ax.set_xlabel('Wall time (s)', fontsize=20)\n",
    "ax.tick_params(axis='both', which='major', labelsize=18)"
   ]
  },
  {
   "cell_type": "markdown",
   "metadata": {},
   "source": [
    "But if we use Adam with a learning rate of 3, it errors."
   ]
  },
  {
   "cell_type": "code",
   "execution_count": 13,
   "metadata": {},
   "outputs": [
    {
     "name": "stdout",
     "output_type": "stream",
     "text": [
      "Iter 1/100: 3231.03515625\n",
      "Iter 11/100: 21.570348739624023\n",
      "Iter 21/100: 25.65089988708496\n",
      "Iter 31/100: 27.09792137145996\n",
      "Iter 41/100: 27.501100540161133\n",
      "Iter 51/100: 27.471574783325195\n",
      "Iter 61/100: 27.256996154785156\n",
      "Iter 71/100: 26.957975387573242\n",
      "Iter 81/100: 26.615554809570312\n",
      "Iter 91/100: 26.246967315673828\n",
      "Iter 100/100: 25.899463653564453\n"
     ]
    }
   ],
   "source": [
    "likelihood = gpytorch.likelihoods.GaussianLikelihood()\n",
    "model = ExactGPModel(X, Y, likelihood)\n",
    "likelihood.train()\n",
    "model.train()\n",
    "mll = gpytorch.mlls.ExactMarginalLogLikelihood(likelihood, model)\n",
    "\n",
    "mll, adam_iterations[lr] = fit_torch(\n",
    "    mll,\n",
    "    optimizer_cls=torch.optim.Adam,\n",
    "    lr=300.,\n",
    "    track_iterations=True,\n",
    ")"
   ]
  },
  {
   "cell_type": "markdown",
   "metadata": {},
   "source": [
    "#### L-BFGS\n",
    "L-BFGS does not require tuning the learning rate, but can take too large of steps early on while it is still learning the curvature. On this problem it fails when evaluating the closure for the first time."
   ]
  },
  {
   "cell_type": "code",
   "execution_count": 14,
   "metadata": {},
   "outputs": [
    {
     "name": "stderr",
     "output_type": "stream",
     "text": [
      "../PyTorch-LBFGS/functions/LBFGS.py:259: UserWarning: This overload of add_ is deprecated:\n",
      "\tadd_(Number alpha, Tensor other)\n",
      "Consider using one of the following signatures instead:\n",
      "\tadd_(Tensor other, *, Number alpha) (Triggered internally at  /tmp/pip-req-build-rc66hrpz/torch/csrc/utils/python_arg_parser.cpp:766.)\n",
      "  p.data.add_(step_size, update[offset:offset + numel].view_as(p.data))\n"
     ]
    },
    {
     "name": "stdout",
     "output_type": "stream",
     "text": [
      "Iter 1/10: 6.4629974365234375\n",
      "Iter 2/10: 6.4629974365234375\n",
      "Iter 3/10: 6.462997913360596\n",
      "Iter 4/10: 6.4629974365234375\n",
      "Iter 5/10: 6.4629974365234375\n",
      "Iter 6/10: 6.462998390197754\n",
      "Iter 7/10: 6.462998390197754\n",
      "Iter 8/10: 6.462997913360596\n",
      "Iter 9/10: 6.4629974365234375\n",
      "Iter 10/10: 6.4629974365234375\n"
     ]
    }
   ],
   "source": [
    "likelihood = gpytorch.likelihoods.GaussianLikelihood()\n",
    "model = ExactGPModel(X, Y, likelihood)\n",
    "likelihood.train()\n",
    "model.train()\n",
    "mll = gpytorch.mlls.ExactMarginalLogLikelihood(likelihood, model)\n",
    "\n",
    "mll, lbfgs_iterations = fit_lbfgs(mll, track_iterations=True)"
   ]
  },
  {
   "cell_type": "code",
   "execution_count": null,
   "metadata": {},
   "outputs": [],
   "source": []
  }
 ],
 "metadata": {
  "bento_stylesheets": {
   "bento/extensions/flow/main.css": true,
   "bento/extensions/kernel_selector/main.css": true,
   "bento/extensions/kernel_ui/main.css": true,
   "bento/extensions/new_kernel/main.css": true,
   "bento/extensions/system_usage/main.css": true,
   "bento/extensions/theme/main.css": true
  },
  "kernelspec": {
   "display_name": "Python [conda env:sogos]",
   "language": "python",
   "name": "conda-env-sogos-py"
  },
  "language_info": {
   "codemirror_mode": {
    "name": "ipython",
    "version": 3
   },
   "file_extension": ".py",
   "mimetype": "text/x-python",
   "name": "python",
   "nbconvert_exporter": "python",
   "pygments_lexer": "ipython3",
   "version": "3.7.3"
  }
 },
 "nbformat": 4,
 "nbformat_minor": 4
}
