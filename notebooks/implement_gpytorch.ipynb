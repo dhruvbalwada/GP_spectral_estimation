{
 "cells": [
  {
   "cell_type": "code",
   "execution_count": 1,
   "metadata": {},
   "outputs": [],
   "source": [
    "import gpytorch\n",
    "import torch\n",
    "from matplotlib import pyplot as plt\n",
    "import numpy as np"
   ]
  },
  {
   "cell_type": "code",
   "execution_count": 2,
   "metadata": {},
   "outputs": [],
   "source": [
    "nin = 50\n",
    "train_x = torch.linspace(-10,10, nin)\n",
    "train_y = torch.sin(train_x) + np.sqrt(0.08)*torch.randn(nin)\n",
    "# torch is the pytorch library, which wraps numpy functions. The data variable is a tensor\n",
    "# type rather than an array, which makes it easy to run them on GPUs."
   ]
  },
  {
   "cell_type": "code",
   "execution_count": 3,
   "metadata": {},
   "outputs": [
    {
     "data": {
      "text/plain": [
       "[<matplotlib.lines.Line2D at 0x7fcfdbdb05c0>]"
      ]
     },
     "execution_count": 3,
     "metadata": {},
     "output_type": "execute_result"
    },
    {
     "data": {
      "image/png": "[encoded data removed]",
      "text/plain": [
       "<Figure size 432x288 with 1 Axes>"
      ]
     },
     "metadata": {
      "needs_background": "light"
     },
     "output_type": "display_data"
    }
   ],
   "source": [
    "plt.plot(train_x, train_y)"
   ]
  },
  {
   "cell_type": "code",
   "execution_count": 4,
   "metadata": {},
   "outputs": [],
   "source": [
    "# We will use the simplest form of GP model, exact inference\n",
    "class ExactGPModel(gpytorch.models.ExactGP): # setup the class which inherits the ExactGP model\n",
    "    # initialize the class with X_input, Y_input and a likelihood\n",
    "    def __init__(self, train_x, train_y, likelihood):\n",
    "        \n",
    "        super(ExactGPModel, self).__init__(train_x, train_y, likelihood)\n",
    "        # This calls the __init__ of the inherited class (gpytorch.models.ExactGP),\n",
    "        # and passes the training data and a likelihood to it.\n",
    "        # Also ExactGPModel objects have access to 'ExactGP' functions, since it has inherited it.\n",
    "        \n",
    "        # Chose a constant mean.\n",
    "        self.mean_module = gpytorch.means.ConstantMean()\n",
    "        # ScaleKernel gives the covariance function a scaling factor (K_scale = theta*K_orig)\n",
    "        self.covar_module = gpytorch.kernels.ScaleKernel(gpytorch.kernels.RBFKernel())\n",
    "\n",
    "        # forward takes some x input of size nXd (n-num samples, d-input dim),\n",
    "        # and returns the multivariate gaussian with mu(x) and cov(x)\n",
    "    def forward(self, x):\n",
    "        mean_x = self.mean_module(x)\n",
    "        covar_x = self.covar_module(x)\n",
    "        return gpytorch.distributions.MultivariateNormal(mean_x, covar_x)"
   ]
  },
  {
   "cell_type": "code",
   "execution_count": 5,
   "metadata": {},
   "outputs": [],
   "source": [
    "# initialize likelihood and model\n",
    "likelihood = gpytorch.likelihoods.GaussianLikelihood()\n",
    "model = ExactGPModel(train_x, train_y, likelihood)"
   ]
  },
  {
   "cell_type": "markdown",
   "metadata": {},
   "source": [
    "### Hyperparameters"
   ]
  },
  {
   "cell_type": "code",
   "execution_count": 7,
   "metadata": {},
   "outputs": [
    {
     "data": {
      "text/plain": [
       "OrderedDict([('likelihood.noise_covar.raw_noise', tensor([0.])),\n",
       "             ('mean_module.constant', tensor([0.])),\n",
       "             ('covar_module.raw_outputscale', tensor(0.)),\n",
       "             ('covar_module.base_kernel.raw_lengthscale', tensor([[0.]]))])"
      ]
     },
     "execution_count": 7,
     "metadata": {},
     "output_type": "execute_result"
    }
   ],
   "source": [
    "# view\n",
    "model.state_dict()"
   ]
  },
  {
   "cell_type": "code",
   "execution_count": 8,
   "metadata": {},
   "outputs": [
    {
     "name": "stdout",
     "output_type": "stream",
     "text": [
      "Parameter name: likelihood.noise_covar.raw_noise           value = 0.0\n",
      "Parameter name: mean_module.constant                       value = 0.0\n",
      "Parameter name: covar_module.raw_outputscale               value = 0.0\n",
      "Parameter name: covar_module.base_kernel.raw_lengthscale   value = 0.0\n"
     ]
    }
   ],
   "source": [
    "for param_name, param in model.named_parameters():\n",
    "    print(f'Parameter name: {param_name:42} value = {param.item()}')"
   ]
  },
  {
   "cell_type": "code",
   "execution_count": 11,
   "metadata": {},
   "outputs": [
    {
     "name": "stdout",
     "output_type": "stream",
     "text": [
      "raw_outputscale,  Parameter containing:\n",
      "tensor(0., requires_grad=True)\n",
      "\n",
      "raw_outputscale_constraint1 Positive()\n"
     ]
    }
   ],
   "source": [
    "raw_outputscale = model.covar_module.raw_outputscale\n",
    "print('raw_outputscale, ', raw_outputscale)\n",
    "print('\\nraw_outputscale_constraint1', model.covar_module.raw_outputscale_constraint)"
   ]
  },
  {
   "cell_type": "code",
   "execution_count": 12,
   "metadata": {},
   "outputs": [
    {
     "name": "stdout",
     "output_type": "stream",
     "text": [
      "Constraint name: likelihood.noise_covar.raw_noise_constraint             constraint = GreaterThan(1.000E-04)\n",
      "Constraint name: covar_module.raw_outputscale_constraint                 constraint = Positive()\n",
      "Constraint name: covar_module.base_kernel.raw_lengthscale_constraint     constraint = Positive()\n"
     ]
    }
   ],
   "source": [
    "for constraint_name, constraint in model.named_constraints():\n",
    "    print(f'Constraint name: {constraint_name:55} constraint = {constraint}')"
   ]
  },
  {
   "cell_type": "code",
   "execution_count": 13,
   "metadata": {},
   "outputs": [
    {
     "name": "stdout",
     "output_type": "stream",
     "text": [
      "Positive()\n"
     ]
    }
   ],
   "source": [
    "print(model.constraint_for_parameter_name(\"covar_module.raw_outputscale\"))\n"
   ]
  },
  {
   "cell_type": "code",
   "execution_count": 15,
   "metadata": {},
   "outputs": [
    {
     "data": {
      "text/plain": [
       "tensor(0.6931, grad_fn=<SoftplusBackward>)"
      ]
     },
     "execution_count": 15,
     "metadata": {},
     "output_type": "execute_result"
    }
   ],
   "source": [
    "model.covar_module.outputscale"
   ]
  },
  {
   "cell_type": "code",
   "execution_count": 16,
   "metadata": {},
   "outputs": [],
   "source": [
    "model.covar_module.outputscale = 2"
   ]
  },
  {
   "cell_type": "code",
   "execution_count": 17,
   "metadata": {},
   "outputs": [
    {
     "data": {
      "text/plain": [
       "tensor(2., grad_fn=<SoftplusBackward>)"
      ]
     },
     "execution_count": 17,
     "metadata": {},
     "output_type": "execute_result"
    }
   ],
   "source": [
    "model.covar_module.outputscale"
   ]
  },
  {
   "cell_type": "code",
   "execution_count": null,
   "metadata": {},
   "outputs": [],
   "source": []
  },
  {
   "cell_type": "code",
   "execution_count": null,
   "metadata": {},
   "outputs": [],
   "source": []
  },
  {
   "cell_type": "code",
   "execution_count": 28,
   "metadata": {},
   "outputs": [
    {
     "data": {
      "text/plain": [
       "ExactGPModel(\n",
       "  (likelihood): GaussianLikelihood(\n",
       "    (noise_covar): HomoskedasticNoise(\n",
       "      (raw_noise_constraint): GreaterThan(1.000E-04)\n",
       "    )\n",
       "  )\n",
       "  (mean_module): ConstantMean()\n",
       "  (covar_module): ScaleKernel(\n",
       "    (base_kernel): RBFKernel(\n",
       "      (raw_lengthscale_constraint): Positive()\n",
       "    )\n",
       "    (raw_outputscale_constraint): Positive()\n",
       "  )\n",
       ")"
      ]
     },
     "execution_count": 28,
     "metadata": {},
     "output_type": "execute_result"
    }
   ],
   "source": [
    "model\n",
    "# this model object has a train and an eval function. "
   ]
  },
  {
   "cell_type": "code",
   "execution_count": 29,
   "metadata": {},
   "outputs": [
    {
     "data": {
      "text/plain": [
       "GaussianLikelihood(\n",
       "  (noise_covar): HomoskedasticNoise(\n",
       "    (raw_noise_constraint): GreaterThan(1.000E-04)\n",
       "  )\n",
       ")"
      ]
     },
     "execution_count": 29,
     "metadata": {},
     "output_type": "execute_result"
    }
   ],
   "source": [
    "# Find optimal model hyperparameters\n",
    "model.train() \n",
    "likelihood.train()\n",
    "# these calls set the model and likelihood into training modes (they don't actually train anything)"
   ]
  },
  {
   "cell_type": "code",
   "execution_count": 30,
   "metadata": {},
   "outputs": [],
   "source": [
    "# Use the adam optimizer\n",
    "optimizer = torch.optim.Adam([\n",
    "                {'params': model.parameters()},  # Includes GaussianLikelihood parameters\n",
    "                              ], lr=0.1) # set learning rate of 0.1"
   ]
  },
  {
   "cell_type": "code",
   "execution_count": 31,
   "metadata": {},
   "outputs": [
    {
     "name": "stdout",
     "output_type": "stream",
     "text": [
      "Iter 1/50 - Loss: 1.099   lengthscale: 0.693   noise: 0.693\n",
      "Iter 2/50 - Loss: 1.064   lengthscale: 0.744   noise: 0.644\n",
      "Iter 3/50 - Loss: 1.028   lengthscale: 0.798   noise: 0.598\n",
      "Iter 4/50 - Loss: 0.994   lengthscale: 0.854   noise: 0.554\n",
      "Iter 5/50 - Loss: 0.962   lengthscale: 0.911   noise: 0.513\n",
      "Iter 6/50 - Loss: 0.931   lengthscale: 0.970   noise: 0.474\n",
      "Iter 7/50 - Loss: 0.901   lengthscale: 1.029   noise: 0.437\n",
      "Iter 8/50 - Loss: 0.873   lengthscale: 1.088   noise: 0.403\n",
      "Iter 9/50 - Loss: 0.848   lengthscale: 1.144   noise: 0.370\n",
      "Iter 10/50 - Loss: 0.824   lengthscale: 1.198   noise: 0.340\n",
      "Iter 11/50 - Loss: 0.801   lengthscale: 1.245   noise: 0.312\n",
      "Iter 12/50 - Loss: 0.779   lengthscale: 1.285   noise: 0.286\n",
      "Iter 13/50 - Loss: 0.757   lengthscale: 1.315   noise: 0.262\n",
      "Iter 14/50 - Loss: 0.734   lengthscale: 1.334   noise: 0.240\n",
      "Iter 15/50 - Loss: 0.710   lengthscale: 1.342   noise: 0.220\n",
      "Iter 16/50 - Loss: 0.686   lengthscale: 1.341   noise: 0.201\n",
      "Iter 17/50 - Loss: 0.662   lengthscale: 1.331   noise: 0.183\n",
      "Iter 18/50 - Loss: 0.638   lengthscale: 1.315   noise: 0.168\n",
      "Iter 19/50 - Loss: 0.615   lengthscale: 1.294   noise: 0.153\n",
      "Iter 20/50 - Loss: 0.594   lengthscale: 1.271   noise: 0.140\n",
      "Iter 21/50 - Loss: 0.574   lengthscale: 1.246   noise: 0.128\n",
      "Iter 22/50 - Loss: 0.556   lengthscale: 1.221   noise: 0.117\n",
      "Iter 23/50 - Loss: 0.540   lengthscale: 1.198   noise: 0.107\n",
      "Iter 24/50 - Loss: 0.525   lengthscale: 1.177   noise: 0.098\n",
      "Iter 25/50 - Loss: 0.512   lengthscale: 1.159   noise: 0.090\n",
      "Iter 26/50 - Loss: 0.501   lengthscale: 1.145   noise: 0.083\n",
      "Iter 27/50 - Loss: 0.491   lengthscale: 1.135   noise: 0.076\n",
      "Iter 28/50 - Loss: 0.483   lengthscale: 1.129   noise: 0.070\n",
      "Iter 29/50 - Loss: 0.476   lengthscale: 1.126   noise: 0.065\n",
      "Iter 30/50 - Loss: 0.470   lengthscale: 1.126   noise: 0.060\n",
      "Iter 31/50 - Loss: 0.466   lengthscale: 1.128   noise: 0.056\n",
      "Iter 32/50 - Loss: 0.463   lengthscale: 1.130   noise: 0.052\n",
      "Iter 33/50 - Loss: 0.461   lengthscale: 1.130   noise: 0.049\n",
      "Iter 34/50 - Loss: 0.461   lengthscale: 1.128   noise: 0.046\n",
      "Iter 35/50 - Loss: 0.461   lengthscale: 1.122   noise: 0.044\n",
      "Iter 36/50 - Loss: 0.461   lengthscale: 1.112   noise: 0.042\n",
      "Iter 37/50 - Loss: 0.462   lengthscale: 1.098   noise: 0.040\n",
      "Iter 38/50 - Loss: 0.463   lengthscale: 1.081   noise: 0.038\n",
      "Iter 39/50 - Loss: 0.464   lengthscale: 1.064   noise: 0.037\n",
      "Iter 40/50 - Loss: 0.466   lengthscale: 1.046   noise: 0.036\n",
      "Iter 41/50 - Loss: 0.467   lengthscale: 1.031   noise: 0.036\n",
      "Iter 42/50 - Loss: 0.467   lengthscale: 1.020   noise: 0.035\n",
      "Iter 43/50 - Loss: 0.468   lengthscale: 1.012   noise: 0.035\n",
      "Iter 44/50 - Loss: 0.468   lengthscale: 1.009   noise: 0.035\n",
      "Iter 45/50 - Loss: 0.468   lengthscale: 1.009   noise: 0.035\n",
      "Iter 46/50 - Loss: 0.467   lengthscale: 1.011   noise: 0.035\n",
      "Iter 47/50 - Loss: 0.466   lengthscale: 1.015   noise: 0.036\n",
      "Iter 48/50 - Loss: 0.465   lengthscale: 1.018   noise: 0.036\n",
      "Iter 49/50 - Loss: 0.465   lengthscale: 1.021   noise: 0.037\n",
      "Iter 50/50 - Loss: 0.464   lengthscale: 1.021   noise: 0.037\n"
     ]
    }
   ],
   "source": [
    "\n",
    "# \"Loss\" for GPs - the marginal log likelihood log(p(y(x)))\n",
    "mll = gpytorch.mlls.ExactMarginalLogLikelihood(likelihood, model)\n",
    "\n",
    "\n",
    "training_iter = 50 # set as many stels as we want to take \n",
    "\n",
    "for i in range(training_iter):\n",
    "    \n",
    "    # Zero gradients from previous iteration\n",
    "    optimizer.zero_grad()\n",
    "    \n",
    "    # Output from model\n",
    "    output = model(train_x)\n",
    "    \n",
    "    # Calc loss and backprop gradients\n",
    "    # loss is defined is -log(p(Y(x)))\n",
    "    \n",
    "    # the way the PyTorch optimizer works is that it looks for a variable called loss,\n",
    "    # which also has a gradient (calc by calling backward), and tries to reduce it.\n",
    "    loss = -mll(output, train_y)\n",
    "    loss.backward()\n",
    "    \n",
    "    print('Iter %d/%d - Loss: %.3f   lengthscale: %.3f   noise: %.3f' % (\n",
    "        i + 1, training_iter, loss.item(),\n",
    "        model.covar_module.base_kernel.lengthscale.item(),\n",
    "        model.likelihood.noise.item()\n",
    "          ))\n",
    "    \n",
    "    optimizer.step()"
   ]
  },
  {
   "cell_type": "code",
   "execution_count": 32,
   "metadata": {},
   "outputs": [],
   "source": [
    "# Get into evaluation (predictive posterior) mode\n",
    "model.eval()\n",
    "likelihood.eval()\n",
    "\n",
    "# Test points are regularly spaced along [0,1]\n",
    "\n",
    "# Make predictions by feeding model through likelihood (?? why ??)\n",
    "\n",
    "with torch.no_grad(), gpytorch.settings.fast_pred_var():\n",
    "    test_x = torch.linspace(-20, 20, 51)\n",
    "    observed_pred = likelihood(model(test_x))\n"
   ]
  },
  {
   "cell_type": "code",
   "execution_count": 33,
   "metadata": {},
   "outputs": [
    {
     "data": {
      "image/png": "[encoded data removed]",
      "text/plain": [
       "<Figure size 288x216 with 1 Axes>"
      ]
     },
     "metadata": {
      "needs_background": "light"
     },
     "output_type": "display_data"
    }
   ],
   "source": [
    "with torch.no_grad():\n",
    "    # Initialize plot\n",
    "    f, ax = plt.subplots(1, 1, figsize=(4, 3))\n",
    "\n",
    "    # Get upper and lower confidence bounds\n",
    "    lower, upper = observed_pred.confidence_region()\n",
    "    # Plot training data as black stars\n",
    "    ax.plot(train_x.numpy(), train_y.numpy(), 'k*')\n",
    "    # Plot predictive means as blue line\n",
    "    ax.plot(test_x.numpy(), observed_pred.mean.numpy(), 'b')\n",
    "    # Shade between the lower and upper confidence bounds\n",
    "    ax.fill_between(test_x.numpy(), lower.numpy(), upper.numpy(), alpha=0.5)\n",
    "    ax.set_ylim([-3, 3])\n",
    "    ax.legend(['Observed Data', 'Mean', 'Confidence'])"
   ]
  },
  {
   "cell_type": "code",
   "execution_count": null,
   "metadata": {},
   "outputs": [],
   "source": []
  },
  {
   "cell_type": "markdown",
   "metadata": {},
   "source": [
    "## Adaptation to 2D problem"
   ]
  },
  {
   "cell_type": "code",
   "execution_count": 122,
   "metadata": {},
   "outputs": [],
   "source": [
    "import math"
   ]
  },
  {
   "cell_type": "code",
   "execution_count": 139,
   "metadata": {},
   "outputs": [
    {
     "name": "stdout",
     "output_type": "stream",
     "text": [
      "tensor([1., 1.], grad_fn=<SelectBackward>)\n"
     ]
    }
   ],
   "source": [
    "nsamples = 100\n",
    "x= np.random.rand(nsamples, 2)\n",
    "y = np.sin(x[:,0] + 2*x[:,1]) + np.random.randn(nsamples) * np.sqrt(0.04)\n",
    "\n",
    "train_x = torch.from_numpy(x).float()\n",
    "train_y = torch.from_numpy(y).float()\n",
    "\n",
    "class ExactGPModel(gpytorch.models.ExactGP):\n",
    "\n",
    "    def __init__(self, train_x, train_y, likelihood):\n",
    "        super(ExactGPModel, self).__init__(train_x, train_y, likelihood)  \n",
    "        self.mean_module = gpytorch.means.ConstantMean()\n",
    "        self.covar_module = gpytorch.kernels.ScaleKernel(\n",
    "                            gpytorch.kernels.RBFKernel(ard_num_dims=2,\n",
    "                                                      has_lengthscale=True))\n",
    "\n",
    "    def forward(self, x):\n",
    "        mean_x = self.mean_module(x)\n",
    "        covar_x = self.covar_module(x)\n",
    "        return gpytorch.distributions.MultivariateNormal(mean_x, covar_x)\n",
    "    \n",
    "likelihood = gpytorch.likelihoods.GaussianLikelihood()\n",
    "model = ExactGPModel(train_x, train_y, likelihood)\n",
    "\n",
    "# just showing how initial values to hyper parameters can be given\n",
    "hypers = {\n",
    "    'likelihood.noise_covar.noise': torch.tensor(.01),\n",
    "    'covar_module.base_kernel.lengthscale': torch.tensor([1.,1.]),\n",
    "    'covar_module.outputscale': torch.tensor(1.),\n",
    "     }\n",
    "\n",
    "model.initialize(**hypers);  \n",
    "\n",
    "print(model.covar_module.base_kernel.lengthscale[0])"
   ]
  },
  {
   "cell_type": "code",
   "execution_count": 142,
   "metadata": {},
   "outputs": [
    {
     "name": "stdout",
     "output_type": "stream",
     "text": [
      "Iter 1/500 - Loss: -0.027   lengthscale1: 0.783 lengthscale2: 0.436  noise: 0.044\n",
      "Iter 11/500 - Loss: -0.026   lengthscale1: 0.823 lengthscale2: 0.455  noise: 0.046\n",
      "Iter 21/500 - Loss: -0.027   lengthscale1: 0.798 lengthscale2: 0.446  noise: 0.045\n",
      "Iter 31/500 - Loss: -0.027   lengthscale1: 0.785 lengthscale2: 0.435  noise: 0.044\n",
      "Iter 41/500 - Loss: -0.027   lengthscale1: 0.777 lengthscale2: 0.433  noise: 0.044\n",
      "Iter 51/500 - Loss: -0.027   lengthscale1: 0.778 lengthscale2: 0.433  noise: 0.044\n",
      "Iter 61/500 - Loss: -0.027   lengthscale1: 0.781 lengthscale2: 0.434  noise: 0.044\n",
      "Iter 71/500 - Loss: -0.027   lengthscale1: 0.782 lengthscale2: 0.435  noise: 0.044\n",
      "Iter 81/500 - Loss: -0.027   lengthscale1: 0.783 lengthscale2: 0.436  noise: 0.044\n",
      "Iter 91/500 - Loss: -0.027   lengthscale1: 0.783 lengthscale2: 0.436  noise: 0.044\n",
      "Iter 101/500 - Loss: -0.027   lengthscale1: 0.783 lengthscale2: 0.436  noise: 0.044\n",
      "Iter 111/500 - Loss: -0.027   lengthscale1: 0.783 lengthscale2: 0.436  noise: 0.044\n",
      "Iter 121/500 - Loss: -0.027   lengthscale1: 0.783 lengthscale2: 0.436  noise: 0.044\n",
      "Iter 131/500 - Loss: -0.027   lengthscale1: 0.783 lengthscale2: 0.436  noise: 0.044\n",
      "Iter 141/500 - Loss: -0.027   lengthscale1: 0.783 lengthscale2: 0.436  noise: 0.044\n",
      "Iter 151/500 - Loss: -0.027   lengthscale1: 0.783 lengthscale2: 0.436  noise: 0.044\n",
      "Iter 161/500 - Loss: -0.027   lengthscale1: 0.783 lengthscale2: 0.436  noise: 0.044\n",
      "Iter 171/500 - Loss: -0.027   lengthscale1: 0.783 lengthscale2: 0.436  noise: 0.044\n",
      "Iter 181/500 - Loss: -0.027   lengthscale1: 0.783 lengthscale2: 0.436  noise: 0.044\n",
      "Iter 191/500 - Loss: -0.027   lengthscale1: 0.783 lengthscale2: 0.436  noise: 0.044\n",
      "Iter 201/500 - Loss: -0.027   lengthscale1: 0.783 lengthscale2: 0.436  noise: 0.044\n",
      "Iter 211/500 - Loss: -0.027   lengthscale1: 0.783 lengthscale2: 0.436  noise: 0.044\n",
      "Iter 221/500 - Loss: -0.027   lengthscale1: 0.783 lengthscale2: 0.436  noise: 0.044\n",
      "Iter 231/500 - Loss: -0.027   lengthscale1: 0.783 lengthscale2: 0.436  noise: 0.044\n",
      "Iter 241/500 - Loss: -0.027   lengthscale1: 0.783 lengthscale2: 0.436  noise: 0.044\n",
      "Iter 251/500 - Loss: -0.027   lengthscale1: 0.783 lengthscale2: 0.436  noise: 0.044\n",
      "Iter 261/500 - Loss: -0.027   lengthscale1: 0.783 lengthscale2: 0.436  noise: 0.044\n",
      "Iter 271/500 - Loss: -0.027   lengthscale1: 0.783 lengthscale2: 0.436  noise: 0.044\n",
      "Iter 281/500 - Loss: -0.027   lengthscale1: 0.783 lengthscale2: 0.436  noise: 0.044\n",
      "Iter 291/500 - Loss: -0.027   lengthscale1: 0.783 lengthscale2: 0.436  noise: 0.044\n",
      "Iter 301/500 - Loss: -0.027   lengthscale1: 0.783 lengthscale2: 0.436  noise: 0.044\n",
      "Iter 311/500 - Loss: -0.027   lengthscale1: 0.783 lengthscale2: 0.436  noise: 0.044\n",
      "Iter 321/500 - Loss: -0.027   lengthscale1: 0.783 lengthscale2: 0.436  noise: 0.044\n",
      "Iter 331/500 - Loss: -0.027   lengthscale1: 0.783 lengthscale2: 0.436  noise: 0.044\n",
      "Iter 341/500 - Loss: -0.027   lengthscale1: 0.783 lengthscale2: 0.436  noise: 0.044\n",
      "Iter 351/500 - Loss: -0.027   lengthscale1: 0.783 lengthscale2: 0.436  noise: 0.044\n",
      "Iter 361/500 - Loss: -0.027   lengthscale1: 0.783 lengthscale2: 0.436  noise: 0.044\n",
      "Iter 371/500 - Loss: -0.027   lengthscale1: 0.783 lengthscale2: 0.436  noise: 0.044\n",
      "Iter 381/500 - Loss: -0.027   lengthscale1: 0.783 lengthscale2: 0.436  noise: 0.044\n",
      "Iter 391/500 - Loss: -0.027   lengthscale1: 0.783 lengthscale2: 0.436  noise: 0.044\n",
      "Iter 401/500 - Loss: -0.027   lengthscale1: 0.783 lengthscale2: 0.436  noise: 0.044\n",
      "Iter 411/500 - Loss: -0.027   lengthscale1: 0.783 lengthscale2: 0.436  noise: 0.044\n",
      "Iter 421/500 - Loss: -0.027   lengthscale1: 0.783 lengthscale2: 0.436  noise: 0.044\n",
      "Iter 431/500 - Loss: -0.027   lengthscale1: 0.783 lengthscale2: 0.436  noise: 0.044\n",
      "Iter 441/500 - Loss: -0.027   lengthscale1: 0.783 lengthscale2: 0.436  noise: 0.044\n",
      "Iter 451/500 - Loss: -0.027   lengthscale1: 0.783 lengthscale2: 0.436  noise: 0.044\n",
      "Iter 461/500 - Loss: -0.027   lengthscale1: 0.783 lengthscale2: 0.436  noise: 0.044\n",
      "Iter 471/500 - Loss: -0.027   lengthscale1: 0.783 lengthscale2: 0.436  noise: 0.044\n",
      "Iter 481/500 - Loss: -0.027   lengthscale1: 0.783 lengthscale2: 0.436  noise: 0.044\n",
      "Iter 491/500 - Loss: -0.027   lengthscale1: 0.783 lengthscale2: 0.436  noise: 0.044\n"
     ]
    }
   ],
   "source": [
    "model.train() \n",
    "likelihood.train();\n",
    "\n",
    "optimizer = torch.optim.Adam([\n",
    "                {'params': model.parameters()},  \n",
    "                              ], lr=0.1)\n",
    "\n",
    "mll = gpytorch.mlls.ExactMarginalLogLikelihood(likelihood, model)\n",
    "\n",
    "\n",
    "training_iter = 500 # set as many stels as we want to take \n",
    "\n",
    "for i in range(training_iter):\n",
    "    \n",
    "        # Zero gradients from previous iteration\n",
    "    optimizer.zero_grad()\n",
    "\n",
    "    # Output from model\n",
    "    output = model(train_x)\n",
    "\n",
    "    # Calc loss and backprop gradients\n",
    "    # loss is defined is -log(p(Y(x)))\n",
    "\n",
    "    # the way the PyTorch optimizer works is that it looks for a variable called loss,\n",
    "    # which also has a gradient (calc by calling backward), and tries to reduce it.\n",
    "    loss = -mll(output, train_y)\n",
    "\n",
    "    loss.backward()\n",
    "    \n",
    "    if np.mod(i,10)==0:\n",
    "        print('Iter %d/%d - Loss: %.3f   lengthscale1: %.3f lengthscale2: %.3f  noise: %.3f' % (\n",
    "            i + 1, training_iter, loss.item(),\n",
    "            model.covar_module.base_kernel.lengthscale[0][0].item(),\n",
    "            model.covar_module.base_kernel.lengthscale[0][1].item(),\n",
    "            model.likelihood.noise.item()\n",
    "              ))\n",
    "\n",
    "    optimizer.step()"
   ]
  },
  {
   "cell_type": "code",
   "execution_count": null,
   "metadata": {},
   "outputs": [],
   "source": []
  },
  {
   "cell_type": "code",
   "execution_count": null,
   "metadata": {},
   "outputs": [],
   "source": []
  }
 ],
 "metadata": {
  "kernelspec": {
   "display_name": "Python [conda env:sogos]",
   "language": "python",
   "name": "conda-env-sogos-py"
  },
  "language_info": {
   "codemirror_mode": {
    "name": "ipython",
    "version": 3
   },
   "file_extension": ".py",
   "mimetype": "text/x-python",
   "name": "python",
   "nbconvert_exporter": "python",
   "pygments_lexer": "ipython3",
   "version": "3.7.3"
  }
 },
 "nbformat": 4,
 "nbformat_minor": 4
}
