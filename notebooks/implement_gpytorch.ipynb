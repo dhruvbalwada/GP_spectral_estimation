{
 "cells": [
  {
   "cell_type": "code",
   "execution_count": 12,
   "metadata": {},
   "outputs": [],
   "source": [
    "import gpytorch\n",
    "import torch\n",
    "from matplotlib import pyplot as plt\n",
    "import numpy as np"
   ]
  },
  {
   "cell_type": "code",
   "execution_count": 13,
   "metadata": {},
   "outputs": [],
   "source": [
    "train_x = torch.linspace(-10,10, 100)\n",
    "train_y = torch.sin(train_x) + np.sqrt(0.05)*torch.randn(100)"
   ]
  },
  {
   "cell_type": "code",
   "execution_count": 9,
   "metadata": {},
   "outputs": [
    {
     "data": {
      "text/plain": [
       "[<matplotlib.lines.Line2D at 0x7f9b76a11e10>]"
      ]
     },
     "execution_count": 9,
     "metadata": {},
     "output_type": "execute_result"
    },
    {
     "data": {
      "image/png": "[encoded data removed]",
      "text/plain": [
       "<Figure size 432x288 with 1 Axes>"
      ]
     },
     "metadata": {
      "needs_background": "light"
     },
     "output_type": "display_data"
    }
   ],
   "source": [
    "plt.plot(train_x, train_y)"
   ]
  },
  {
   "cell_type": "code",
   "execution_count": 10,
   "metadata": {},
   "outputs": [],
   "source": [
    "# We will use the simplest form of GP model, exact inference\n",
    "class ExactGPModel(gpytorch.models.ExactGP):\n",
    "    def __init__(self, train_x, train_y, likelihood):\n",
    "        super(ExactGPModel, self).__init__(train_x, train_y, likelihood)\n",
    "        self.mean_module = gpytorch.means.ConstantMean()\n",
    "        self.covar_module = gpytorch.kernels.ScaleKernel(gpytorch.kernels.RBFKernel())\n",
    "\n",
    "    def forward(self, x):\n",
    "        mean_x = self.mean_module(x)\n",
    "        covar_x = self.covar_module(x)\n",
    "        return gpytorch.distributions.MultivariateNormal(mean_x, covar_x)"
   ]
  },
  {
   "cell_type": "code",
   "execution_count": 16,
   "metadata": {},
   "outputs": [],
   "source": [
    "# initialize likelihood and model\n",
    "likelihood = gpytorch.likelihoods.GaussianLikelihood()\n",
    "model = ExactGPModel(train_x, train_y, likelihood)"
   ]
  },
  {
   "cell_type": "code",
   "execution_count": 17,
   "metadata": {},
   "outputs": [
    {
     "name": "stdout",
     "output_type": "stream",
     "text": [
      "Iter 1/50 - Loss: 1.000   lengthscale: 0.693   noise: 0.693\n",
      "Iter 2/50 - Loss: 0.964   lengthscale: 0.744   noise: 0.644\n",
      "Iter 3/50 - Loss: 0.926   lengthscale: 0.798   noise: 0.598\n",
      "Iter 4/50 - Loss: 0.890   lengthscale: 0.854   noise: 0.554\n",
      "Iter 5/50 - Loss: 0.855   lengthscale: 0.911   noise: 0.513\n",
      "Iter 6/50 - Loss: 0.820   lengthscale: 0.970   noise: 0.474\n",
      "Iter 7/50 - Loss: 0.786   lengthscale: 1.030   noise: 0.437\n",
      "Iter 8/50 - Loss: 0.753   lengthscale: 1.091   noise: 0.403\n",
      "Iter 9/50 - Loss: 0.721   lengthscale: 1.150   noise: 0.370\n",
      "Iter 10/50 - Loss: 0.690   lengthscale: 1.208   noise: 0.340\n",
      "Iter 11/50 - Loss: 0.659   lengthscale: 1.263   noise: 0.312\n",
      "Iter 12/50 - Loss: 0.629   lengthscale: 1.313   noise: 0.286\n",
      "Iter 13/50 - Loss: 0.598   lengthscale: 1.358   noise: 0.262\n",
      "Iter 14/50 - Loss: 0.568   lengthscale: 1.395   noise: 0.239\n",
      "Iter 15/50 - Loss: 0.538   lengthscale: 1.425   noise: 0.219\n",
      "Iter 16/50 - Loss: 0.508   lengthscale: 1.448   noise: 0.200\n",
      "Iter 17/50 - Loss: 0.478   lengthscale: 1.464   noise: 0.182\n",
      "Iter 18/50 - Loss: 0.449   lengthscale: 1.473   noise: 0.166\n",
      "Iter 19/50 - Loss: 0.421   lengthscale: 1.478   noise: 0.152\n",
      "Iter 20/50 - Loss: 0.395   lengthscale: 1.479   noise: 0.138\n",
      "Iter 21/50 - Loss: 0.370   lengthscale: 1.478   noise: 0.126\n",
      "Iter 22/50 - Loss: 0.347   lengthscale: 1.476   noise: 0.115\n",
      "Iter 23/50 - Loss: 0.326   lengthscale: 1.474   noise: 0.105\n",
      "Iter 24/50 - Loss: 0.307   lengthscale: 1.474   noise: 0.096\n",
      "Iter 25/50 - Loss: 0.291   lengthscale: 1.476   noise: 0.088\n",
      "Iter 26/50 - Loss: 0.277   lengthscale: 1.480   noise: 0.081\n",
      "Iter 27/50 - Loss: 0.265   lengthscale: 1.488   noise: 0.074\n",
      "Iter 28/50 - Loss: 0.255   lengthscale: 1.500   noise: 0.069\n",
      "Iter 29/50 - Loss: 0.248   lengthscale: 1.513   noise: 0.063\n",
      "Iter 30/50 - Loss: 0.243   lengthscale: 1.530   noise: 0.059\n",
      "Iter 31/50 - Loss: 0.240   lengthscale: 1.548   noise: 0.055\n",
      "Iter 32/50 - Loss: 0.239   lengthscale: 1.566   noise: 0.052\n",
      "Iter 33/50 - Loss: 0.240   lengthscale: 1.585   noise: 0.049\n",
      "Iter 34/50 - Loss: 0.242   lengthscale: 1.602   noise: 0.046\n",
      "Iter 35/50 - Loss: 0.245   lengthscale: 1.618   noise: 0.044\n",
      "Iter 36/50 - Loss: 0.249   lengthscale: 1.630   noise: 0.042\n",
      "Iter 37/50 - Loss: 0.252   lengthscale: 1.639   noise: 0.041\n",
      "Iter 38/50 - Loss: 0.255   lengthscale: 1.644   noise: 0.040\n",
      "Iter 39/50 - Loss: 0.257   lengthscale: 1.645   noise: 0.040\n",
      "Iter 40/50 - Loss: 0.258   lengthscale: 1.643   noise: 0.039\n",
      "Iter 41/50 - Loss: 0.258   lengthscale: 1.638   noise: 0.039\n",
      "Iter 42/50 - Loss: 0.257   lengthscale: 1.631   noise: 0.039\n",
      "Iter 43/50 - Loss: 0.256   lengthscale: 1.622   noise: 0.040\n",
      "Iter 44/50 - Loss: 0.254   lengthscale: 1.613   noise: 0.040\n",
      "Iter 45/50 - Loss: 0.252   lengthscale: 1.605   noise: 0.041\n",
      "Iter 46/50 - Loss: 0.250   lengthscale: 1.597   noise: 0.042\n",
      "Iter 47/50 - Loss: 0.247   lengthscale: 1.592   noise: 0.043\n",
      "Iter 48/50 - Loss: 0.245   lengthscale: 1.589   noise: 0.044\n",
      "Iter 49/50 - Loss: 0.244   lengthscale: 1.588   noise: 0.046\n",
      "Iter 50/50 - Loss: 0.242   lengthscale: 1.589   noise: 0.047\n"
     ]
    }
   ],
   "source": [
    "import os\n",
    "smoke_test = ('CI' in os.environ)\n",
    "training_iter = 2 if smoke_test else 50\n",
    "\n",
    "\n",
    "# Find optimal model hyperparameters\n",
    "model.train()\n",
    "likelihood.train()\n",
    "\n",
    "# Use the adam optimizer\n",
    "optimizer = torch.optim.Adam([\n",
    "    {'params': model.parameters()},  # Includes GaussianLikelihood parameters\n",
    "], lr=0.1)\n",
    "\n",
    "# \"Loss\" for GPs - the marginal log likelihood\n",
    "mll = gpytorch.mlls.ExactMarginalLogLikelihood(likelihood, model)\n",
    "\n",
    "for i in range(training_iter):\n",
    "    # Zero gradients from previous iteration\n",
    "    optimizer.zero_grad()\n",
    "    # Output from model\n",
    "    output = model(train_x)\n",
    "    # Calc loss and backprop gradients\n",
    "    loss = -mll(output, train_y)\n",
    "    loss.backward()\n",
    "    print('Iter %d/%d - Loss: %.3f   lengthscale: %.3f   noise: %.3f' % (\n",
    "        i + 1, training_iter, loss.item(),\n",
    "        model.covar_module.base_kernel.lengthscale.item(),\n",
    "        model.likelihood.noise.item()\n",
    "    ))\n",
    "    optimizer.step()"
   ]
  },
  {
   "cell_type": "code",
   "execution_count": null,
   "metadata": {},
   "outputs": [],
   "source": []
  }
 ],
 "metadata": {
  "kernelspec": {
   "display_name": "Python [conda env:sogos]",
   "language": "python",
   "name": "conda-env-sogos-py"
  },
  "language_info": {
   "codemirror_mode": {
    "name": "ipython",
    "version": 3
   },
   "file_extension": ".py",
   "mimetype": "text/x-python",
   "name": "python",
   "nbconvert_exporter": "python",
   "pygments_lexer": "ipython3",
   "version": "3.7.3"
  }
 },
 "nbformat": 4,
 "nbformat_minor": 4
}
